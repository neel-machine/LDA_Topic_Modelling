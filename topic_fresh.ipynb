{
  "nbformat": 4,
  "nbformat_minor": 0,
  "metadata": {
    "colab": {
      "provenance": [],
      "collapsed_sections": [],
      "authorship_tag": "ABX9TyPo8lvfjeGHWEU3ib5BNSgs",
      "include_colab_link": true
    },
    "kernelspec": {
      "name": "python3",
      "display_name": "Python 3"
    },
    "language_info": {
      "name": "python"
    }
  },
  "cells": [
    {
      "cell_type": "markdown",
      "metadata": {
        "id": "view-in-github",
        "colab_type": "text"
      },
      "source": [
        "<a href=\"https://colab.research.google.com/github/neel-machine/LDA_Topic_Modelling/blob/main/topic_fresh.ipynb\" target=\"_parent\"><img src=\"https://colab.research.google.com/assets/colab-badge.svg\" alt=\"Open In Colab\"/></a>"
      ]
    },
    {
      "cell_type": "code",
      "execution_count": null,
      "metadata": {
        "id": "GLpi-jLs-gdV"
      },
      "outputs": [],
      "source": [
        "import pandas as pd\n",
        "import nltk,re\n",
        "from nltk.corpus import stopwords\n",
        "from nltk.stem import WordNetLemmatizer"
      ]
    },
    {
      "cell_type": "code",
      "source": [
        "nltk.download('stopwords')\n",
        "nltk.download('punkt')\n",
        "nltk.download('wordnet')\n",
        "nltk.download('omw-1.4')"
      ],
      "metadata": {
        "colab": {
          "base_uri": "https://localhost:8080/"
        },
        "id": "czh3Gu1Q_xGx",
        "outputId": "037412ee-bd3d-4a2e-cc3a-017ff7569c33"
      },
      "execution_count": null,
      "outputs": [
        {
          "output_type": "stream",
          "name": "stderr",
          "text": [
            "[nltk_data] Downloading package stopwords to /root/nltk_data...\n",
            "[nltk_data]   Package stopwords is already up-to-date!\n",
            "[nltk_data] Downloading package punkt to /root/nltk_data...\n",
            "[nltk_data]   Package punkt is already up-to-date!\n",
            "[nltk_data] Downloading package wordnet to /root/nltk_data...\n",
            "[nltk_data]   Package wordnet is already up-to-date!\n",
            "[nltk_data] Downloading package omw-1.4 to /root/nltk_data...\n"
          ]
        },
        {
          "output_type": "execute_result",
          "data": {
            "text/plain": [
              "True"
            ]
          },
          "metadata": {},
          "execution_count": 15
        }
      ]
    },
    {
      "cell_type": "code",
      "source": [
        "df = pd.read_csv('doordash_appstore_reviews.csv')\n",
        "df.info()"
      ],
      "metadata": {
        "colab": {
          "base_uri": "https://localhost:8080/"
        },
        "id": "WKNKxUEH-v66",
        "outputId": "8f4126c8-310a-4835-f3a9-528f2c8bb121"
      },
      "execution_count": null,
      "outputs": [
        {
          "output_type": "stream",
          "name": "stdout",
          "text": [
            "<class 'pandas.core.frame.DataFrame'>\n",
            "RangeIndex: 3340 entries, 0 to 3339\n",
            "Data columns (total 8 columns):\n",
            " #   Column             Non-Null Count  Dtype \n",
            "---  ------             --------------  ----- \n",
            " 0   Unnamed: 0         3340 non-null   int64 \n",
            " 1   title              3340 non-null   object\n",
            " 2   isEdited           3340 non-null   bool  \n",
            " 3   date               3340 non-null   object\n",
            " 4   rating             3340 non-null   int64 \n",
            " 5   review             3340 non-null   object\n",
            " 6   userName           3340 non-null   object\n",
            " 7   developerResponse  57 non-null     object\n",
            "dtypes: bool(1), int64(2), object(5)\n",
            "memory usage: 186.0+ KB\n"
          ]
        }
      ]
    },
    {
      "cell_type": "code",
      "source": [
        "pd.set_option('display.max_colwidth',None)\n",
        "df.review[:1]"
      ],
      "metadata": {
        "colab": {
          "base_uri": "https://localhost:8080/"
        },
        "id": "4UKVis0K-v9S",
        "outputId": "667097b7-7d75-415f-9806-2b40d85f32da"
      },
      "execution_count": null,
      "outputs": [
        {
          "output_type": "execute_result",
          "data": {
            "text/plain": [
              "0    I've been using door dash with dash pass for a few months, ordering for and with my girlfriend and family, occasionally with them paying. I support the drivers a lot as well, and I would order every day, giving generous tips and additional cash if I had it. But they just added another two factor authorization that doesn't work properly at all, and it ended in me wasting money on dash pass, on my account and my mom's account for literally no reason, and I guarantee it's causing a lot of dashers to lose money. So I called technical support and they sent me a troubleshooting list to start off with, and I followed it step by step, removing the cards, authorizing them one at a time, everything they said to do. Needless to say, their first branch of customer service was nothing short of a heaving pile of garbage. They said to wait snd try again later, so then comes the next day. I tried ordering food, with two cards with the same general info, and SHABAM, nothing happens. Well, not nothing, it repeatedly asks me to \"rescan your card\" even though it's been done and verified like 12 times and the useless payment from the dash pass on both accounts went through, but not the actual orders? The cards are obviously accepted and they work, so I called them again. They sent me to a slightly higher up in the branch, and she said, she can't do anything about it. So cool, you guy's lost literally 6 customers in one go 👍🏻\n",
              "Name: review, dtype: object"
            ]
          },
          "metadata": {},
          "execution_count": 3
        }
      ]
    },
    {
      "cell_type": "code",
      "source": [],
      "metadata": {
        "id": "A3xfdoQm--Cz"
      },
      "execution_count": null,
      "outputs": []
    },
    {
      "cell_type": "markdown",
      "source": [
        "Looking at one review to estimate steps for text preprocessing. \n",
        "\n",
        "\n",
        "1.   Convert all text into lowercase\n",
        "2.   Remove punctuations\n",
        "3.   Lemmatise the text: Brings context of words     unlike stemming\n",
        "      Examples of lemmatization:\n",
        "\n",
        "      -> rocks : rock\n",
        "      -> corpora : corpus\n",
        "      -> better : good\n",
        "4.   Remove emojis\n",
        "\n",
        "Reg Ex:\n",
        "\n",
        "String literals may optionally be prefixed with a letter 'r' or 'R'; such strings are called raw strings and use different rules for interpreting backslash escape sequences.\n",
        "\n"
      ],
      "metadata": {
        "id": "w0o7QIUY_Awg"
      }
    },
    {
      "cell_type": "code",
      "source": [
        "lemmatizer = WordNetLemmatizer()\n",
        "def clean_text(review):\n",
        "  string = re.sub(r'[^A-Za-z]','',review)\n",
        "  print(string)\n",
        "  txt = [\" \".join(lemmatizer.lemmatize(word)) for word in string.lower().split()]\n",
        "  print(txt)\n",
        "  return \" \".join(txt)"
      ],
      "metadata": {
        "id": "rm9Ac8-W_fgR"
      },
      "execution_count": null,
      "outputs": []
    },
    {
      "cell_type": "code",
      "source": [
        "clean_text(\"sample,TEXT for cleaning\")"
      ],
      "metadata": {
        "colab": {
          "base_uri": "https://localhost:8080/",
          "height": 70
        },
        "id": "r8PArK2CE5Tc",
        "outputId": "11ef421e-fa45-4e7a-851f-3269c81e707f"
      },
      "execution_count": null,
      "outputs": [
        {
          "output_type": "stream",
          "name": "stdout",
          "text": [
            "sampleTEXTforcleaning\n",
            "['s a m p l e t e x t f o r c l e a n i n g']\n"
          ]
        },
        {
          "output_type": "execute_result",
          "data": {
            "text/plain": [
              "'s a m p l e t e x t f o r c l e a n i n g'"
            ],
            "application/vnd.google.colaboratory.intrinsic+json": {
              "type": "string"
            }
          },
          "metadata": {},
          "execution_count": 35
        }
      ]
    },
    {
      "cell_type": "code",
      "source": [],
      "metadata": {
        "id": "4cVFCiVwE5Pw"
      },
      "execution_count": null,
      "outputs": []
    },
    {
      "cell_type": "code",
      "source": [],
      "metadata": {
        "id": "vVaPEiAcE5NQ"
      },
      "execution_count": null,
      "outputs": []
    },
    {
      "cell_type": "code",
      "source": [],
      "metadata": {
        "id": "b7V_nGU4E5K1"
      },
      "execution_count": null,
      "outputs": []
    },
    {
      "cell_type": "code",
      "source": [],
      "metadata": {
        "id": "Lw8ZsOUFE5Ij"
      },
      "execution_count": null,
      "outputs": []
    }
  ]
}